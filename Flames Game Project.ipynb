{
 "cells": [
  {
   "cell_type": "code",
   "execution_count": 32,
   "metadata": {},
   "outputs": [
    {
     "name": "stdout",
     "output_type": "stream",
     "text": [
      "Player 1 name:ANKIT\n",
      "player 2 name:DEEPIKA\n",
      "['n', 't']\n",
      "['d', 'e', 'e', 'p']\n",
      "6\n",
      "the relationship status is : Love\n"
     ]
    }
   ],
   "source": [
    "pl1=str(input(\"Player 1 name:\"))\n",
    "pl2=str(input(\"player 2 name:\"))\n",
    "listpl1=list(pl1.lower())\n",
    "listpl2=list(pl2.lower())\n",
    "def remove_match_char(list1, list2):\n",
    "    for i in range(len(list1)):\n",
    "        for j in range(len(list2)):\n",
    "            if list1[i]==list2[j]:\n",
    "                c=list1[i]\n",
    "                list1.remove(c)\n",
    "                list2.remove(c)\n",
    "                list4=list1+[\"*\"]+list2\n",
    "                return [list4,True]\n",
    "    list4=list1+[\"*\"]+list2\n",
    "    return [list4,False]\n",
    "while True:\n",
    "    f=remove_match_char(listpl1,listpl2)\n",
    "    con=f[0]\n",
    "    star=con.index(\"*\")\n",
    "    listpl1=con[:star]\n",
    "    listpl2=con[star+1:]\n",
    "    if f[1]==False:\n",
    "        break\n",
    "print(listpl1)\n",
    "print(listpl2)\n",
    "count=len(listpl1)+len(listpl2)\n",
    "print(count)\n",
    "flames = [\"Friends\", \"Love\", \"Affection\", \"Marriage\", \"Enemy\", \"Siblings\"]\n",
    "\n",
    "while len(flames)>1:\n",
    "    result=(count % len(flames)-1)\n",
    "    if result >=0:\n",
    "        right=flames[result+1:]\n",
    "        left=flames[:result]\n",
    "        word=right+left\n",
    "        print(word)\n",
    "    break\n",
    "print(\"the relationship status is :\",word[0])"
   ]
  },
  {
   "cell_type": "code",
   "execution_count": null,
   "metadata": {},
   "outputs": [],
   "source": []
  },
  {
   "cell_type": "code",
   "execution_count": null,
   "metadata": {},
   "outputs": [],
   "source": []
  }
 ],
 "metadata": {
  "kernelspec": {
   "display_name": "Python 3",
   "language": "python",
   "name": "python3"
  },
  "language_info": {
   "codemirror_mode": {
    "name": "ipython",
    "version": 3
   },
   "file_extension": ".py",
   "mimetype": "text/x-python",
   "name": "python",
   "nbconvert_exporter": "python",
   "pygments_lexer": "ipython3",
   "version": "3.7.6"
  }
 },
 "nbformat": 4,
 "nbformat_minor": 4
}
