{
 "cells": [
  {
   "cell_type": "code",
   "execution_count": 11,
   "metadata": {},
   "outputs": [
    {
     "name": "stdout",
     "output_type": "stream",
     "text": [
      "[[1, 2, 3], [4, 5, 6]]\n"
     ]
    }
   ],
   "source": [
    "#Question 1\n",
    "\n",
    "A=np.array([[1,2,3],[4,5,6]])\n",
    "B=np.ndarray.tolist(A)\n",
    "print(B)"
   ]
  },
  {
   "cell_type": "code",
   "execution_count": 26,
   "metadata": {},
   "outputs": [
    {
     "name": "stdout",
     "output_type": "stream",
     "text": [
      "15\n",
      "15\n"
     ]
    }
   ],
   "source": [
    "#Question 2\n",
    "A=np.array([[1,2,3],[4,5,6],[7,8,9]])\n",
    "F=A[0,0]+A[1,1]+A[2,2]\n",
    "print(F)\n",
    "Z=A.trace()\n",
    "print(Z)"
   ]
  },
  {
   "cell_type": "code",
   "execution_count": 108,
   "metadata": {},
   "outputs": [
    {
     "name": "stdout",
     "output_type": "stream",
     "text": [
      "values Greater than 2 is [3 5]\n"
     ]
    }
   ],
   "source": [
    "#Question 3\n",
    "import numpy as np\n",
    "x=2\n",
    "a =np.array([[1,2],[3,5]])\n",
    "print(\"values Greater than 2 is\", a[a>2])\n"
   ]
  },
  {
   "cell_type": "code",
   "execution_count": 100,
   "metadata": {},
   "outputs": [
    {
     "name": "stdout",
     "output_type": "stream",
     "text": [
      "[[2 4]\n",
      " [6 8]]\n"
     ]
    }
   ],
   "source": [
    "#Question 4\n",
    "import numpy as np\n",
    "A=np.array([[1,2],[3,4]])\n",
    "B=np.array([[1,2],[3,4]])\n",
    "C=A+B\n",
    "print(C)"
   ]
  },
  {
   "cell_type": "code",
   "execution_count": 105,
   "metadata": {},
   "outputs": [
    {
     "name": "stdout",
     "output_type": "stream",
     "text": [
      "1.5\n",
      "3.5\n",
      "2.0\n"
     ]
    }
   ],
   "source": [
    "#Question 5\n",
    "import numpy as np\n",
    "A=np.array([[1,2],[3,4]])\n",
    "B=np.mean(A[0,:])\n",
    "C=np.mean(A[1,:])\n",
    "print(B)\n",
    "print(C)\n",
    "print(C-B)"
   ]
  },
  {
   "cell_type": "code",
   "execution_count": null,
   "metadata": {},
   "outputs": [],
   "source": []
  }
 ],
 "metadata": {
  "kernelspec": {
   "display_name": "Python 3",
   "language": "python",
   "name": "python3"
  },
  "language_info": {
   "codemirror_mode": {
    "name": "ipython",
    "version": 3
   },
   "file_extension": ".py",
   "mimetype": "text/x-python",
   "name": "python",
   "nbconvert_exporter": "python",
   "pygments_lexer": "ipython3",
   "version": "3.7.6"
  }
 },
 "nbformat": 4,
 "nbformat_minor": 4
}
