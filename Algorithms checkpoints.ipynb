{
 "cells": [
  {
   "cell_type": "code",
   "execution_count": 20,
   "metadata": {},
   "outputs": [
    {
     "name": "stdout",
     "output_type": "stream",
     "text": [
      "True\n"
     ]
    }
   ],
   "source": [
    "#question 1\n",
    "def binary_search(sequence,item):\n",
    "    begin_index=0\n",
    "    end_index=len(sequence)-1\n",
    "    while begin_index <= end_index:\n",
    "        midpoint= begin_index + (end_index - begin_index)//2\n",
    "        midpoint_value=sequence[midpoint]\n",
    "        if midpoint_value == item:\n",
    "            return True\n",
    "        elif item < midpoint_value:\n",
    "            end_index=midpoint-1\n",
    "        else:\n",
    "            begin_index=midpoint+1\n",
    "    return False\n",
    "sequence_a=[1,2,3,5,8]\n",
    "item_a=5\n",
    "\n",
    "print(binary_search(sequence_a,item_a))\n",
    "            "
   ]
  },
  {
   "cell_type": "code",
   "execution_count": 45,
   "metadata": {},
   "outputs": [
    {
     "data": {
      "text/plain": [
       "[22, 33, 41, 54, 70, 84]"
      ]
     },
     "execution_count": 45,
     "metadata": {},
     "output_type": "execute_result"
    }
   ],
   "source": [
    "#Question 3\n",
    "def bubblesort(nlist):\n",
    "    for ninlist in range(len(nlist)):\n",
    "        for i in range(ninlist):\n",
    "            if nlist[i]>nlist[i+1]:\n",
    "                temp=nlist[i]\n",
    "                nlist[i]=nlist[i+1]\n",
    "                nlist[i+1]=temp\n",
    "    return nlist\n",
    "nlist=[54,33,84,22,41,70]\n",
    "bubblesort(nlist)"
   ]
  },
  {
   "cell_type": "code",
   "execution_count": 44,
   "metadata": {},
   "outputs": [
    {
     "name": "stdout",
     "output_type": "stream",
     "text": [
      "[13, 13, 22, 37, 46, 49, 49, 71, 56]\n"
     ]
    }
   ],
   "source": [
    "#Question 4\n",
    "def mergesort(mlist):\n",
    "    if len(mlist) >1:\n",
    "        mid=len(mlist)//2\n",
    "        left=mlist[:mid]\n",
    "        right=mlist[mid:]\n",
    "        mergesort(left)\n",
    "        mergesort(right)\n",
    "        \n",
    "        i=0\n",
    "        j=0\n",
    "        k=0\n",
    "        \n",
    "        while i<len(left) and j <len(right):\n",
    "            if left[i]< right[j]:\n",
    "                mlist[k]=left[i]\n",
    "                i+=1\n",
    "            else:\n",
    "                mlist[k]=right[j]\n",
    "                j+=1\n",
    "            k+=1\n",
    "        while i < len(left):\n",
    "            mList[k] = left[i]\n",
    "            i += 1\n",
    "            k += 1\n",
    "\n",
    "        while j < len(right):\n",
    "            mList[k]=right[j]\n",
    "            j += 1\n",
    "            k += 1\n",
    "\n",
    "mList = [29,13,22,37,52,49,46,71,56]\n",
    "mergesort(mList)\n",
    "print(mList)"
   ]
  },
  {
   "cell_type": "code",
   "execution_count": 47,
   "metadata": {},
   "outputs": [
    {
     "name": "stdout",
     "output_type": "stream",
     "text": [
      "8\n"
     ]
    }
   ],
   "source": [
    "#Question 2\n",
    "def power(x,y):\n",
    "    if y==0:\n",
    "        return 1\n",
    "    elif x==0:\n",
    "        return 0\n",
    "    elif y==1:\n",
    "        return x\n",
    "    else:\n",
    "        return x*power(x,y-1)\n",
    "print(power(2,3))"
   ]
  },
  {
   "cell_type": "code",
   "execution_count": 63,
   "metadata": {},
   "outputs": [
    {
     "name": "stdout",
     "output_type": "stream",
     "text": [
      "Sorted array is:\n",
      "13\n",
      "22\n",
      "29\n",
      "37\n",
      "46\n",
      "49\n",
      "52\n",
      "56\n",
      "71\n"
     ]
    }
   ],
   "source": [
    "#Question 5\n",
    "def partition(array, start, end):\n",
    "    i = (start-1)         \n",
    "    pivot = array[end-1]     \n",
    " \n",
    "    for j in range(start, end):\n",
    "        if array[j] <= pivot:\n",
    "            i = i+1\n",
    "            array[i], array[j] = array[j], array[i]\n",
    " \n",
    "    array[i+1], array[end] = array[end], array[i+1]\n",
    "    return (i+1)\n",
    " \n",
    " \n",
    "def quick_sort(array,start,end):\n",
    "    if len(array)==1:\n",
    "        return array\n",
    "    if start < end:\n",
    "        pi = partition(array, start, end)\n",
    "        quick_sort(array, start, pi-1)\n",
    "        quick_sort(arr, pi+1, end)\n",
    " \n",
    " \n",
    "\n",
    "arr =  [29,13,22,37,52,49,46,71,56]\n",
    "quick_sort(array, 0, len(array)-1)\n",
    "print(\"Sorted array is:\")\n",
    "for i in range(len(array)):\n",
    "    print(\"%d\" % array[i])"
   ]
  },
  {
   "cell_type": "code",
   "execution_count": null,
   "metadata": {},
   "outputs": [],
   "source": []
  }
 ],
 "metadata": {
  "kernelspec": {
   "display_name": "Python 3",
   "language": "python",
   "name": "python3"
  },
  "language_info": {
   "codemirror_mode": {
    "name": "ipython",
    "version": 3
   },
   "file_extension": ".py",
   "mimetype": "text/x-python",
   "name": "python",
   "nbconvert_exporter": "python",
   "pygments_lexer": "ipython3",
   "version": "3.7.6"
  }
 },
 "nbformat": 4,
 "nbformat_minor": 4
}
