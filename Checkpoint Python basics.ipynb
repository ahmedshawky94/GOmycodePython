{
 "cells": [
  {
   "cell_type": "code",
   "execution_count": null,
   "metadata": {},
   "outputs": [],
   "source": [
    "str1=input(print(\"First name = \"))\n",
    "str2=input(print(\"Last name = \"))\n",
    "\n",
    "print(\"Revered Name=\",str2 + \" \" +str1)"
   ]
  },
  {
   "cell_type": "code",
   "execution_count": null,
   "metadata": {},
   "outputs": [],
   "source": [
    "n=input(print(\"Enter an integer: \"))\n",
    "x=int(n)+int(n)*11+int(n)*111\n",
    "print (x)"
   ]
  },
  {
   "cell_type": "code",
   "execution_count": null,
   "metadata": {},
   "outputs": [],
   "source": [
    "n=input(print(\"Enter an Integer=\"))\n",
    "x= int(n)/2\n",
    "if x==int(x):\n",
    "    print(\"Even\")\n",
    "else:\n",
    "    print(\"odd\")"
   ]
  },
  {
   "cell_type": "code",
   "execution_count": null,
   "metadata": {},
   "outputs": [],
   "source": [
    "for i in range(2000,3201):\n",
    "    x=i%7\n",
    "    y=i%5\n",
    "    if x==0 and y!=0:\n",
    "        print(i)"
   ]
  },
  {
   "cell_type": "code",
   "execution_count": null,
   "metadata": {},
   "outputs": [],
   "source": [
    "n=int(input(print(\"Enter an integer=\")))\n",
    "x=1\n",
    "for i in range(1,n+1):\n",
    "    x=x*i\n",
    "print(x)"
   ]
  },
  {
   "cell_type": "code",
   "execution_count": 5,
   "metadata": {},
   "outputs": [
    {
     "name": "stdout",
     "output_type": "stream",
     "text": [
      "Enter a string= \n",
      "Nonehello team\n",
      "h\n",
      "l\n",
      "o\n",
      "t\n",
      "a\n"
     ]
    }
   ],
   "source": [
    "n=str(input(print(\"Enter a string= \")))\n",
    "for i in range(len(n)):\n",
    "    if i%2==0:\n",
    "        print(n[i])"
   ]
  },
  {
   "cell_type": "code",
   "execution_count": null,
   "metadata": {},
   "outputs": [],
   "source": [
    "n=int(input(print(\"enter the price=\")))\n",
    "x=n-(n*50/100)\n",
    "y=n-(n*30/100)\n",
    "z=n-(n*30/100)\n",
    "if n in range(200,500):\n",
    "    print(y)\n",
    "elif n>499:\n",
    "    print(x)\n",
    "else:\n",
    "    print(z)"
   ]
  }
 ],
 "metadata": {
  "kernelspec": {
   "display_name": "Python 3",
   "language": "python",
   "name": "python3"
  },
  "language_info": {
   "codemirror_mode": {
    "name": "ipython",
    "version": 3
   },
   "file_extension": ".py",
   "mimetype": "text/x-python",
   "name": "python",
   "nbconvert_exporter": "python",
   "pygments_lexer": "ipython3",
   "version": "3.7.6"
  }
 },
 "nbformat": 4,
 "nbformat_minor": 4
}
