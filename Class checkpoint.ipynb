{
 "cells": [
  {
   "cell_type": "code",
   "execution_count": 36,
   "metadata": {},
   "outputs": [
    {
     "name": "stdout",
     "output_type": "stream",
     "text": [
      "the point is (1,2,3)\n"
     ]
    }
   ],
   "source": [
    "#Question1\n",
    "class point3D:\n",
    "    def __init__(self,x,y,z):\n",
    "        self.x=x\n",
    "        self.y=y\n",
    "        self.z=z\n",
    "        print(\"the point is ({},{},{})\".format(x,y,z))\n",
    "    \n",
    "my_point=point3D(1,2,3)\n"
   ]
  },
  {
   "cell_type": "code",
   "execution_count": 37,
   "metadata": {},
   "outputs": [
    {
     "name": "stdout",
     "output_type": "stream",
     "text": [
      "area = 12\n",
      "premiter= 14\n"
     ]
    }
   ],
   "source": [
    "#Question2\n",
    "class rectangle:\n",
    "    def __init__(self,length,width):\n",
    "        self.length=length\n",
    "        self.width=width\n",
    "        area = (self.length*self.width)\n",
    "        print(\"area =\",area)\n",
    "        premiter=2*(self.length+self.width)\n",
    "        print(\"premiter=\",premiter)\n",
    "\n",
    "\n",
    "my_rectangle=rectangle(3,4)"
   ]
  },
  {
   "cell_type": "code",
   "execution_count": 70,
   "metadata": {},
   "outputs": [
    {
     "name": "stdout",
     "output_type": "stream",
     "text": [
      "200.96\n",
      "50.24\n",
      "point inside the circle\n"
     ]
    }
   ],
   "source": [
    "#question3\n",
    "class Circle():\n",
    "    def __init__(self, r, O):\n",
    "        self.r = r\n",
    "        self.O=(0,0)\n",
    "    def area(self,r):\n",
    "        self.r = r\n",
    "        print(3.14*(r**2))\n",
    "    def primeter(self,r):\n",
    "        self.r = r\n",
    "        print(2*r*3.14)\n",
    "    def point(self,r,x,y):\n",
    "        self.r=r\n",
    "        self.x=x\n",
    "        self.y=y\n",
    "        if ((x-0)**2)+((y-0)**2)<r**2:\n",
    "            print(\"point inside the circle\")\n",
    "        else:\n",
    "            print(\"point outside the circle\")\n",
    "\n",
    "pointA = Circle(8,0)\n",
    "pointA.area(8)\n",
    "pointA.primeter(8)\n",
    "pointA.point(8,3,4)"
   ]
  },
  {
   "cell_type": "code",
   "execution_count": 79,
   "metadata": {},
   "outputs": [
    {
     "name": "stdout",
     "output_type": "stream",
     "text": [
      "amount is 29000\n",
      "amount is 463125\n"
     ]
    }
   ],
   "source": [
    "#Qyestion4\n",
    "class bank:\n",
    "    def withdraw(self,balance,withdraw):\n",
    "        self.balance=balance\n",
    "        self.withdraw=withdraw\n",
    "        print(\"amount is\",balance-withdraw)\n",
    "    def deposit(self,balance,deposit):\n",
    "        self.balance=balance\n",
    "        self.deposit=deposit\n",
    "        print(\"amount is\",balance+deposit)\n",
    "customer=bank()\n",
    "customer.withdraw(30000,1000)\n",
    "customer.deposit(458125,5000)\n",
    "        \n",
    "    "
   ]
  },
  {
   "cell_type": "code",
   "execution_count": null,
   "metadata": {},
   "outputs": [],
   "source": []
  }
 ],
 "metadata": {
  "kernelspec": {
   "display_name": "Python 3",
   "language": "python",
   "name": "python3"
  },
  "language_info": {
   "codemirror_mode": {
    "name": "ipython",
    "version": 3
   },
   "file_extension": ".py",
   "mimetype": "text/x-python",
   "name": "python",
   "nbconvert_exporter": "python",
   "pygments_lexer": "ipython3",
   "version": "3.7.6"
  }
 },
 "nbformat": 4,
 "nbformat_minor": 4
}
