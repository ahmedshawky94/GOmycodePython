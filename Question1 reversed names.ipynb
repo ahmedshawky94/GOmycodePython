{
 "cells": [
  {
   "cell_type": "code",
   "execution_count": 4,
   "metadata": {},
   "outputs": [
    {
     "name": "stdout",
     "output_type": "stream",
     "text": [
      "First name = \n",
      "NoneAhmed\n",
      "Last name = \n",
      "NoneShawky\n",
      "Revered Name= Shawky Ahmed\n"
     ]
    }
   ],
   "source": [
    "str1=input(print(\"First name = \"))\n",
    "str2=input(print(\"Last name = \"))\n",
    "\n",
    "print(\"Revered Name=\",str2 + \" \" +str1)"
   ]
  },
  {
   "cell_type": "code",
   "execution_count": 22,
   "metadata": {},
   "outputs": [
    {
     "name": "stdout",
     "output_type": "stream",
     "text": [
      "<class 'str'>ugfhgasdavh\n",
      "First name = ugfhgasdavh\n",
      "<class 'str'>wtuqegwi\n",
      "Last name =  wtuqegwi\n",
      "Name= NoneNone\n"
     ]
    }
   ],
   "source": [
    "str1=str(print(\"First name =\", input(str)))\n",
    "str2=str(print(\"Last name = \", input(str)))\n",
    "str3=print(\"Name=\" ,str(str1)+str(str2))     #i want to execute it in this way and dont know how :)#"
   ]
  },
  {
   "cell_type": "code",
   "execution_count": null,
   "metadata": {},
   "outputs": [],
   "source": []
  }
 ],
 "metadata": {
  "kernelspec": {
   "display_name": "Python 3",
   "language": "python",
   "name": "python3"
  },
  "language_info": {
   "codemirror_mode": {
    "name": "ipython",
    "version": 3
   },
   "file_extension": ".py",
   "mimetype": "text/x-python",
   "name": "python",
   "nbconvert_exporter": "python",
   "pygments_lexer": "ipython3",
   "version": "3.7.6"
  }
 },
 "nbformat": 4,
 "nbformat_minor": 4
}
