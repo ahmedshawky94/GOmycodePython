{
 "cells": [
  {
   "cell_type": "code",
   "execution_count": 10,
   "metadata": {},
   "outputs": [
    {
     "name": "stdout",
     "output_type": "stream",
     "text": [
      "100\n"
     ]
    }
   ],
   "source": [
    "#Question1\n",
    "def Max(a,b,c):\n",
    "    if a>b and c:\n",
    "        print(a)\n",
    "    elif b>c and a:\n",
    "        print(b)\n",
    "    else:\n",
    "        print(c)\n",
    "        \n",
    "Max(45,100,19)"
   ]
  },
  {
   "cell_type": "code",
   "execution_count": 30,
   "metadata": {},
   "outputs": [
    {
     "data": {
      "text/plain": [
       "(70, 30)"
      ]
     },
     "execution_count": 30,
     "metadata": {},
     "output_type": "execute_result"
    }
   ],
   "source": [
    "#Question2\n",
    "def calculations(a,b):\n",
    "    x=int(a)\n",
    "    y=int(b)\n",
    "    return (x+y,x-y)\n",
    "calculations(50,20)"
   ]
  },
  {
   "cell_type": "code",
   "execution_count": 245,
   "metadata": {},
   "outputs": [
    {
     "name": "stdout",
     "output_type": "stream",
     "text": [
      "45\n",
      "362880\n",
      "[2, 4, 6, 8]\n",
      "384\n",
      "[1, 3, 5, 7, 9]\n",
      "25\n"
     ]
    }
   ],
   "source": [
    "#Question3\n",
    "def summtion(liste):\n",
    "    x=0\n",
    "    for i in liste:\n",
    "        x=x+i\n",
    "    #print(x)\n",
    "    return x\n",
    "liste=[1,2,3,4,5,6,7,8,9]\n",
    "print(summtion(liste))\n",
    "def multiplication(liste):\n",
    "    y=1\n",
    "    for i in liste:\n",
    "        y=y*i\n",
    "    return(y)\n",
    "print(multiplication(liste))\n",
    "\n",
    "\n",
    "l1=[]\n",
    "l2=[]\n",
    "for i in range(len(liste)):\n",
    "    if i%2==0:\n",
    "        l1.append(liste[i])\n",
    "    else:\n",
    "        l2.append(liste[i])\n",
    "print(l2)\n",
    "print(multiplication(l2))\n",
    "print(l1)\n",
    "print(summtion(l1))\n",
    "\n"
   ]
  },
  {
   "cell_type": "code",
   "execution_count": 61,
   "metadata": {},
   "outputs": [
    {
     "name": "stdout",
     "output_type": "stream",
     "text": [
      "green-red-yellow-black-white\n",
      "['green', 'red', 'yellow', 'black', 'white']\n",
      "black-green-red-white-yellow\n"
     ]
    }
   ],
   "source": [
    "#Question4\n",
    "A=str(input())\n",
    "x=A.split(\"-\")\n",
    "print(x)\n",
    "y=sorted(x)\n",
    "print('-'.join(y))"
   ]
  },
  {
   "cell_type": "code",
   "execution_count": 120,
   "metadata": {},
   "outputs": [
    {
     "name": "stdout",
     "output_type": "stream",
     "text": [
      "100,150,180\n",
      "['100', '150', '180']\n",
      "18,22,24\n"
     ]
    }
   ],
   "source": [
    "#Question5\n",
    "import math\n",
    "l1=[]\n",
    "c=50\n",
    "h=30\n",
    "A=(input())\n",
    "d=A.split(\",\")\n",
    "print(d)\n",
    "for i in d:\n",
    "    x=int(math.sqrt((2*c*int(i))/h))\n",
    "    l1.append(str(x))\n",
    "print(','.join(l1))\n"
   ]
  },
  {
   "cell_type": "code",
   "execution_count": null,
   "metadata": {},
   "outputs": [],
   "source": []
  }
 ],
 "metadata": {
  "kernelspec": {
   "display_name": "Python 3",
   "language": "python",
   "name": "python3"
  },
  "language_info": {
   "codemirror_mode": {
    "name": "ipython",
    "version": 3
   },
   "file_extension": ".py",
   "mimetype": "text/x-python",
   "name": "python",
   "nbconvert_exporter": "python",
   "pygments_lexer": "ipython3",
   "version": "3.7.6"
  }
 },
 "nbformat": 4,
 "nbformat_minor": 4
}
